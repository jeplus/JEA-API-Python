{
 "cells": [
  {
   "cell_type": "markdown",
   "metadata": {},
   "source": [
    "# JESS Web Users Functions API Example\n",
    "This notebook provides a demonstration of the user's functions of the JESS Web API. For documentation of the API, please visit: [JESS Web API](http://www.jeplus.org/wiki/doku.php?id=docs:jea:jea_api \"Go to JEA API docs\"). \n",
    "\n",
    "Let's start with loading the necessary package and testing the connection to the server. The \"[Requests: HTTP for Humans](http://python-requests.org \"Go to Python Requests website\")\" is shown here, although other http packaages can be used too. \n",
    "\n",
    "After loading the Request package, we can run the Info command. Info is the simplest command and does not require authentication, so it works also if you copy and paste the URL to a browser, or [click here](https://api.ensims.com/users/api/info \"Try Info command in browser\")."
   ]
  },
  {
   "cell_type": "code",
   "execution_count": 1,
   "metadata": {},
   "outputs": [
    {
     "data": {
      "text/plain": [
       "{'Title': 'Users Web API',\n",
       " 'Description': 'JESS User Management API provided by ENSIMS Ltd.',\n",
       " 'Major': 1,\n",
       " 'Minor': 0,\n",
       " 'Revision': 0,\n",
       " 'Release': 'beta',\n",
       " 'Update': 0,\n",
       " 'Notice': '(C) 2017, Energy Simulation Solutions Ltd. All rights reserved.'}"
      ]
     },
     "execution_count": 1,
     "metadata": {},
     "output_type": "execute_result"
    }
   ],
   "source": [
    "# Use requests (see https://requests.readthedocs.io/en/master/)\n",
    "import requests\n",
    "\n",
    "# API endpoint URL\n",
    "ApiBase = 'https://api.ensims.com/'\n",
    "# ApiBase = 'https://localhost:8443/'\n",
    "UserApi = ApiBase + 'users/api/'\n",
    "\n",
    "# Test connection\n",
    "r = requests.get(UserApi + 'info')\n",
    "r.json()"
   ]
  },
  {
   "cell_type": "markdown",
   "metadata": {},
   "source": [
    "Requests will make a GET request to the given URL, and store the returned data in 'r'. Most of the data returned by the users API are in JSON format, as shown above. You can access individual field like this:"
   ]
  },
  {
   "cell_type": "code",
   "execution_count": 2,
   "metadata": {},
   "outputs": [
    {
     "data": {
      "text/plain": [
       "'Users Web API'"
      ]
     },
     "execution_count": 2,
     "metadata": {},
     "output_type": "execute_result"
    }
   ],
   "source": [
    "r.json()['Title']"
   ]
  },
  {
   "cell_type": "markdown",
   "metadata": {},
   "source": [
    "## Authentication\n",
    "\n",
    "In order to do anything useful, you must first create an account and log on to the system by acquiring a session token with your credentials. You can create a JESS Web account on [app.ensims.com](https://app.ensims.com/ \"Go to app.ensims.com\"). It is possible to create an account using the API functions only. Please refer to the documentation for details.\n",
    "\n",
    "Once you have got an account, use the auth command to log on to the system. The auth command is a POST request with appropriate headers and the user credentials in JSON format as the data body. Here is how you do it. **Please remember to replace the login email with your own.** Also, since your password will be sent in clear text, please make sure that you do NOT show it in any publically accessible scripts, and use only the HTTPS protocol when accessing the JESS Web platform.\n",
    "\n",
    "In this example, we use another library for typing in the password."
   ]
  },
  {
   "cell_type": "code",
   "execution_count": 4,
   "metadata": {},
   "outputs": [
    {
     "name": "stdin",
     "output_type": "stream",
     "text": [
      "Password for yi@jeplus.org:  ········\n"
     ]
    },
    {
     "data": {
      "text/plain": [
       "{'ok': True,\n",
       " 'status': 'Logged in successfully!',\n",
       " 'jwt': 'Session token in cookie',\n",
       " 'user': 'Yi',\n",
       " 'role': 'pro',\n",
       " 'email': 'yi@jeplus.org'}"
      ]
     },
     "execution_count": 4,
     "metadata": {},
     "output_type": "execute_result"
    }
   ],
   "source": [
    "# Get log in credential\n",
    "import getpass\n",
    "user_email = \"yi@jeplus.org\"\n",
    "password = getpass.getpass(\"Password for \" + user_email + \": \")\n",
    "\n",
    "# Set header and body of the POST request\n",
    "headers = {'Content-Type': 'application/json'}\n",
    "body = {\"email\": user_email, \"password\": password}\n",
    "\n",
    "# Send request\n",
    "r = requests.post(UserApi + 'auth', headers=headers, json=body)\n",
    "\n",
    "# Keep the cookies\n",
    "cookies = r.cookies\n",
    "\n",
    "# Check data returned by JEA\n",
    "r.json()"
   ]
  },
  {
   "cell_type": "markdown",
   "metadata": {},
   "source": [
    "The JESS Web platform uses JSON Web Tokens (JWT) as the authentication mechanism. If logged on successfully, a JWT key used as the session token will be returned by the service as a cookie. The session token needs to be kept safe and sent with any commands requiring authentication. Here is how you get the session token cookie and view its contents. Please note that the token has a limited life span of a few hours, during which time it must be kept a secrete."
   ]
  },
  {
   "cell_type": "markdown",
   "metadata": {},
   "source": [
    "To check if a session is still valid, we can use the 'checkin' command. This command also demonstrates how the session token cookie being used for authentication in the commands that require it. If 'checkin' with the existing token is successful, a new token will be returned hence we can extend the life span of the current session. Just remember to update the stored cookies."
   ]
  },
  {
   "cell_type": "code",
   "execution_count": 7,
   "metadata": {},
   "outputs": [
    {
     "data": {
      "text/plain": [
       "{'ok': True,\n",
       " 'status': 'Session renewed successfully!',\n",
       " 'jwt': 'Session key cookie',\n",
       " 'user': 'Yi',\n",
       " 'role': 'user',\n",
       " 'email': 'yi@jeplus.org'}"
      ]
     },
     "execution_count": 7,
     "metadata": {},
     "output_type": "execute_result"
    }
   ],
   "source": [
    "# Check-in\n",
    "r = requests.post(UserApi + 'checkin', cookies=cookies)\n",
    "\n",
    "# Update the copy of the key if successful\n",
    "if r.json()['ok']:\n",
    "    cookies = r.cookies\n",
    "\n",
    "# Show the response\n",
    "r.json()"
   ]
  },
  {
   "cell_type": "markdown",
   "metadata": {},
   "source": [
    "## Check and update account details\n",
    "\n",
    "The 'user' command is for retrieve (GET) and update (POST) user account details, as shown in the following examples."
   ]
  },
  {
   "cell_type": "code",
   "execution_count": 13,
   "metadata": {},
   "outputs": [
    {
     "data": {
      "text/plain": [
       "{'title': 'Dr',\n",
       " 'firstname': 'Yi',\n",
       " 'middlename': None,\n",
       " 'surname': 'Zhang',\n",
       " 'nickname': 'Yi',\n",
       " 'position': None,\n",
       " 'company': 'ENSIMS',\n",
       " 'email': 'yi@jeplus.org',\n",
       " 'tel': None,\n",
       " 'address': None,\n",
       " 'postcode': None,\n",
       " 'country': None,\n",
       " 'website': None,\n",
       " 'twitter': None,\n",
       " 'linkedin': None,\n",
       " 'use_jess': False,\n",
       " 'jess_user': 'TestUser',\n",
       " 'jess_pwd': 'hidden'}"
      ]
     },
     "execution_count": 13,
     "metadata": {},
     "output_type": "execute_result"
    }
   ],
   "source": [
    "# Send command\n",
    "r = requests.get(UserApi + 'user', cookies=cookies)\n",
    "\n",
    "r.json()"
   ]
  },
  {
   "cell_type": "markdown",
   "metadata": {},
   "source": [
    "Now, let's set/change some details."
   ]
  },
  {
   "cell_type": "code",
   "execution_count": 9,
   "metadata": {},
   "outputs": [
    {
     "data": {
      "text/plain": [
       "{'ok': True,\n",
       " 'status': 'Account details updated successfully!',\n",
       " 'session': None}"
      ]
     },
     "execution_count": 9,
     "metadata": {},
     "output_type": "execute_result"
    }
   ],
   "source": [
    "user = r.json()\n",
    "user['title'] = 'Dr'\n",
    "user['firstname'] = 'Yi'\n",
    "user['surname'] = 'Zhang'\n",
    "user['company'] = 'ENSIMS'\n",
    "\n",
    "# Send command\n",
    "r = requests.post(UserApi + 'user', json=user, cookies=cookies)\n",
    "\n",
    "r.json()"
   ]
  },
  {
   "cell_type": "markdown",
   "metadata": {},
   "source": [
    "Check the account details again to see that the changes have been applied. "
   ]
  },
  {
   "cell_type": "code",
   "execution_count": 10,
   "metadata": {},
   "outputs": [
    {
     "data": {
      "text/plain": [
       "{'title': 'Dr',\n",
       " 'firstname': 'Yi',\n",
       " 'middlename': None,\n",
       " 'surname': 'Zhang',\n",
       " 'nickname': 'Yi',\n",
       " 'position': None,\n",
       " 'company': 'ENSIMS',\n",
       " 'email': 'yi@jeplus.org',\n",
       " 'tel': None,\n",
       " 'address': None,\n",
       " 'postcode': None,\n",
       " 'country': None,\n",
       " 'website': None,\n",
       " 'twitter': None,\n",
       " 'linkedin': None,\n",
       " 'use_jess': False,\n",
       " 'jess_user': 'test',\n",
       " 'jess_pwd': 'hidden'}"
      ]
     },
     "execution_count": 10,
     "metadata": {},
     "output_type": "execute_result"
    }
   ],
   "source": [
    "# retrieve user account details again to check\n",
    "r = requests.get(UserApi + 'user', cookies=cookies)\n",
    "\n",
    "# Show the returned status\n",
    "r.json()"
   ]
  },
  {
   "cell_type": "markdown",
   "metadata": {},
   "source": [
    "And, that's about it. There are three special fields, 'use_jess', 'jess_user' and 'jess_pwd', to link the online simulation service provided by ENSIMS to the user's account. This will be detailed in the JESS API example."
   ]
  },
  {
   "cell_type": "markdown",
   "metadata": {},
   "source": [
    "## Upload, download, and view files\n",
    "\n",
    "We can upload files to a storage area linked to this user account. These files can be used for simulation (see JESS API) or optimisation projects (see JEA API) later. With certain file types, e.g. the EPW, ESO and IDF files, we can also use this facility as a viewer. \n",
    "\n",
    "First, the GET files/ comamnd retrieves the list of contents of a folder in the storage area in a tree structure:"
   ]
  },
  {
   "cell_type": "code",
   "execution_count": 28,
   "metadata": {},
   "outputs": [
    {
     "name": "stderr",
     "output_type": "stream",
     "text": [
      "c:\\bin\\python38\\lib\\site-packages\\urllib3\\connection.py:388: SubjectAltNameWarning: Certificate for localhost has no `subjectAltName`, falling back to check for a `commonName` for now. This feature is being removed by major browsers and deprecated by RFC 2818. (See https://github.com/urllib3/urllib3/issues/497 for details.)\n",
      "  warnings.warn(\n"
     ]
    },
    {
     "data": {
      "text/plain": [
       "{'name': '/project3/weather',\n",
       " 'fileName': '/project3/weather',\n",
       " 'open': True,\n",
       " 'nocheck': True,\n",
       " 'children': [{'name': 'GBR_London.Gatwick.037760_IWEC.epw (1.55 MB)',\n",
       "   'fileName': 'GBR_London.Gatwick.037760_IWEC.epw',\n",
       "   'open': False,\n",
       "   'nocheck': False,\n",
       "   'children': [],\n",
       "   'fileSize': 1547758}],\n",
       " 'fileSize': 0}"
      ]
     },
     "execution_count": 28,
     "metadata": {},
     "output_type": "execute_result"
    }
   ],
   "source": [
    "# retrieve files in a particular folder\n",
    "folder = \"project3/weather\"\n",
    "r = requests.get(UserApi + 'files/' + folder, cookies=cookies)\n",
    "\n",
    "# Show the returned status\n",
    "r.json()"
   ]
  },
  {
   "cell_type": "markdown",
   "metadata": {},
   "source": [
    "The same command downloads the file if the paths are pointing to a file instead of a folder:"
   ]
  },
  {
   "cell_type": "code",
   "execution_count": 29,
   "metadata": {},
   "outputs": [
    {
     "name": "stderr",
     "output_type": "stream",
     "text": [
      "c:\\bin\\python38\\lib\\site-packages\\urllib3\\connection.py:388: SubjectAltNameWarning: Certificate for localhost has no `subjectAltName`, falling back to check for a `commonName` for now. This feature is being removed by major browsers and deprecated by RFC 2818. (See https://github.com/urllib3/urllib3/issues/497 for details.)\n",
      "  warnings.warn(\n"
     ]
    },
    {
     "data": {
      "text/plain": [
       "'# Parameter list for project: 0 (exported at 01/09/15 14:46)\\r\\n# Note: this list contains only the first branch of the parameter tree.\\r\\n# Parameter definitions in a csv file. Column headings are as below\\r\\n# ID, Name, Parameter Type, Description, Search String, Value Type, Value String, Selected Value Index\\r\\n#           {0}                                         {0, 1, 2}                 {0, .... depending on number of values}\\r\\n# \\r\\nP1,Orientation,0,\"Orientation of the building\",@@orientation@@,0,[0 :45 :359 ] & {101} ^ {45, 135},0\\r\\nP2,Outside Air Rate,0,\"Outside Air Rate [m3/s/person]\",@@Outside_Air@@,1,@sample(n, 0.008, 0.003, 5),0\\r\\nP3,Occupancy density,0,\"occupancy density [people / m^2]\",@@Occ@@,1,@file(P3_sample_EXP.txt),0\\r\\nP4,Equipment power,0,\"Equipment power as a function of occupancy density\",@@Eq@@,1,@calc(-400*P3*P3+220*P3+2),0\\r\\n'"
      ]
     },
     "execution_count": 29,
     "metadata": {},
     "output_type": "execute_result"
    }
   ],
   "source": [
    "# retrieve a file in a particular folder\n",
    "folder = \"project3/parameters.csv\"\n",
    "r = requests.get(UserApi + 'files/' + folder, cookies=cookies)\n",
    "\n",
    "# Show the contents of the downloaded file\n",
    "r.text"
   ]
  },
  {
   "cell_type": "markdown",
   "metadata": {},
   "source": [
    "To upload a file to a specific folder, we can use POST files/"
   ]
  },
  {
   "cell_type": "code",
   "execution_count": 32,
   "metadata": {},
   "outputs": [
    {
     "name": "stderr",
     "output_type": "stream",
     "text": [
      "c:\\bin\\python38\\lib\\site-packages\\urllib3\\connection.py:388: SubjectAltNameWarning: Certificate for localhost has no `subjectAltName`, falling back to check for a `commonName` for now. This feature is being removed by major browsers and deprecated by RFC 2818. (See https://github.com/urllib3/urllib3/issues/497 for details.)\n",
      "  warnings.warn(\n"
     ]
    },
    {
     "data": {
      "text/plain": [
       "{'ok': True,\n",
       " 'status': 'File(s) uploaded successfully',\n",
       " 'fileHandle': 'test\\\\0',\n",
       " 'callback': '/users/api/files/test\\\\0'}"
      ]
     },
     "execution_count": 32,
     "metadata": {},
     "output_type": "execute_result"
    }
   ],
   "source": [
    "# upload a file to a particular folder\n",
    "folder = \"test/0\"\n",
    "files = {'file': open('c:\\windows\\win.ini', 'rb')}\n",
    "\n",
    "# POST with files\n",
    "r = requests.post(UserApi + 'files/' + folder, files=files, cookies=cookies)\n",
    "\n",
    "# Show the returned status\n",
    "r.json()"
   ]
  },
  {
   "cell_type": "markdown",
   "metadata": {},
   "source": [
    "When a zip archive containing multiple files and folders is uploaded, its contents will be extracted automatically and stored in the user's upload area, as shown in the example here. Please note the returned file handle may be the target folder in the user's area, or the root folder of the zip file residing in the target folder, depending on how the zip archive is created."
   ]
  },
  {
   "cell_type": "code",
   "execution_count": 36,
   "metadata": {},
   "outputs": [
    {
     "name": "stderr",
     "output_type": "stream",
     "text": [
      "c:\\bin\\python38\\lib\\site-packages\\urllib3\\connection.py:388: SubjectAltNameWarning: Certificate for localhost has no `subjectAltName`, falling back to check for a `commonName` for now. This feature is being removed by major browsers and deprecated by RFC 2818. (See https://github.com/urllib3/urllib3/issues/497 for details.)\n",
      "  warnings.warn(\n"
     ]
    },
    {
     "data": {
      "text/plain": [
       "{'ok': True,\n",
       " 'status': 'File(s) uploaded successfully',\n",
       " 'fileHandle': 'example_jep_v81',\n",
       " 'callback': '/users/api/files/example_jep_v81'}"
      ]
     },
     "execution_count": 36,
     "metadata": {},
     "output_type": "execute_result"
    }
   ],
   "source": [
    "# upload a file to a particular folder\n",
    "folder = \"\"\n",
    "files = {'file': open('C:\\zyyz\\JESS_Client_v3.0.2\\example_jep_v81.zip', 'rb')}\n",
    "\n",
    "# POST with files\n",
    "r = requests.post(UserApi + 'files/' + folder, files=files, cookies=cookies)\n",
    "\n",
    "# Show the returned status\n",
    "r.json()"
   ]
  },
  {
   "cell_type": "markdown",
   "metadata": {},
   "source": [
    "To delet a file or a folder with everything in it, use the DELETE files/ command:"
   ]
  },
  {
   "cell_type": "code",
   "execution_count": 35,
   "metadata": {},
   "outputs": [
    {
     "name": "stderr",
     "output_type": "stream",
     "text": [
      "c:\\bin\\python38\\lib\\site-packages\\urllib3\\connection.py:388: SubjectAltNameWarning: Certificate for localhost has no `subjectAltName`, falling back to check for a `commonName` for now. This feature is being removed by major browsers and deprecated by RFC 2818. (See https://github.com/urllib3/urllib3/issues/497 for details.)\n",
      "  warnings.warn(\n"
     ]
    },
    {
     "data": {
      "text/plain": [
       "{'ok': True, 'status': 'example_jep_v81/ has been deleted'}"
      ]
     },
     "execution_count": 35,
     "metadata": {},
     "output_type": "execute_result"
    }
   ],
   "source": [
    "# delete a file from the given folder\n",
    "# filepath = \"test/0/win.ini\"\n",
    "filepath = \"example_jep_v81/\"\n",
    "\n",
    "# DELETE with files\n",
    "r = requests.delete(UserApi + 'files/' + filepath, cookies=cookies)\n",
    "\n",
    "# Show the returned status\n",
    "r.json()"
   ]
  },
  {
   "cell_type": "markdown",
   "metadata": {},
   "source": [
    "And, finally, JESS Web currently provides viewers for EPW, ESO and IDF files. Examples can be found in the JESS_API examples notebook. "
   ]
  },
  {
   "cell_type": "markdown",
   "metadata": {},
   "source": [
    "## Summary\n",
    "\n",
    "This tutorial document shows the main functions of the Users API of the JESS Web platform. You can find more details in the [docs](https://www.jeplus.org/wiki/doku.php?id=docs:jea:jea_api#summary \"Go to JEA docs\"). \n"
   ]
  }
 ],
 "metadata": {
  "kernelspec": {
   "display_name": "Python 3",
   "language": "python",
   "name": "python3"
  },
  "language_info": {
   "codemirror_mode": {
    "name": "ipython",
    "version": 3
   },
   "file_extension": ".py",
   "mimetype": "text/x-python",
   "name": "python",
   "nbconvert_exporter": "python",
   "pygments_lexer": "ipython3",
   "version": "3.8.0"
  }
 },
 "nbformat": 4,
 "nbformat_minor": 4
}
