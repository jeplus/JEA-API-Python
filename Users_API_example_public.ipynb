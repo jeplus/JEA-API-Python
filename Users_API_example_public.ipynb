{
 "cells": [
  {
   "cell_type": "markdown",
   "metadata": {},
   "source": [
    "# JESS Web Users Functions API Example\n",
    "This notebook provides a demonstration of the user's functions of the JESS Web API. For documentation of the API, please visit: [JESS Web API](http://www.jeplus.org/wiki/doku.php?id=docs:jea:jea_api \"Go to JEA API docs\"). \n",
    "\n",
    "Let's start with loading the necessary package and testing the connection to the server. The \"[Requests: HTTP for Humans](http://python-requests.org \"Go to Python Requests website\")\" is shown here, although other http packaages can be used too. \n",
    "\n",
    "After loading the Request package, we can run the Info command. Info is the simplest command and does not require authentication, so it works also if you copy and paste the URL to a browser, or [click here](https://api.ensims.com/users/api/info \"Try Info command in browser\")."
   ]
  },
  {
   "cell_type": "code",
   "execution_count": 1,
   "metadata": {},
   "outputs": [
    {
     "data": {
      "text/plain": [
       "{'Title': 'Users Web API',\n",
       " 'Description': 'JESS User Management API provided by ENSIMS Ltd.',\n",
       " 'Major': 1,\n",
       " 'Minor': 0,\n",
       " 'Revision': 0,\n",
       " 'Release': 'beta',\n",
       " 'Update': 0,\n",
       " 'Notice': '(C) 2017, Energy Simulation Solutions Ltd. All rights reserved.'}"
      ]
     },
     "execution_count": 1,
     "metadata": {},
     "output_type": "execute_result"
    }
   ],
   "source": [
    "# Use requests (see https://requests.readthedocs.io/en/master/)\n",
    "import requests\n",
    "\n",
    "# API endpoint URL\n",
    "ApiBase = 'https://api.ensims.com/'\n",
    "# ApiBase = 'https://localhost:8443/'\n",
    "UserApi = ApiBase + 'users/api/'\n",
    "\n",
    "# Test connection\n",
    "r = requests.get(UserApi + 'info')\n",
    "r.json()"
   ]
  },
  {
   "cell_type": "markdown",
   "metadata": {},
   "source": [
    "Requests will make a GET request to the given URL, and store the returned data in 'r'. Most of the data returned by the users API are in JSON format, as shown above. You can access individual field like this:"
   ]
  },
  {
   "cell_type": "code",
   "execution_count": 2,
   "metadata": {},
   "outputs": [
    {
     "data": {
      "text/plain": [
       "'Users Web API'"
      ]
     },
     "execution_count": 2,
     "metadata": {},
     "output_type": "execute_result"
    }
   ],
   "source": [
    "r.json()['Title']"
   ]
  },
  {
   "cell_type": "markdown",
   "metadata": {},
   "source": [
    "## Authentication\n",
    "\n",
    "In order to do anything useful, you must first create an account and log on to the system by acquiring a session token with your credentials. You can create a JESS Web account on [app.ensims.com](https://app.ensims.com/ \"Go to app.ensims.com\"). It is possible to create an account using the API functions only. Please refer to the documentation for details.\n",
    "\n",
    "Once you have got an account, use the auth command to log on to the system. The auth command is a POST request with appropriate headers and the user credentials in JSON format as the data body. Here is how you do it. **Please remember to replace the login email with your own.** Also, since your password will be sent in clear text, please make sure that you do NOT show it in any publically accessible scripts, and use only the HTTPS protocol when accessing the JESS Web platform.\n",
    "\n",
    "In this example, we use another library for typing in the password."
   ]
  },
  {
   "cell_type": "code",
   "execution_count": 17,
   "metadata": {},
   "outputs": [
    {
     "name": "stdin",
     "output_type": "stream",
     "text": [
      "Password for yi@jeplus.org:  ········\n"
     ]
    },
    {
     "data": {
      "text/plain": [
       "{'ok': True,\n",
       " 'status': 'Logged in successfully!',\n",
       " 'jwt': 'Session token in cookie',\n",
       " 'user': 'Yi',\n",
       " 'role': 'pro',\n",
       " 'email': 'yi@jeplus.org'}"
      ]
     },
     "execution_count": 17,
     "metadata": {},
     "output_type": "execute_result"
    }
   ],
   "source": [
    "# Get log in credential\n",
    "import getpass\n",
    "user_email = \"yi@jeplus.org\"\n",
    "password = getpass.getpass(\"Password for \" + user_email + \": \")\n",
    "\n",
    "# Set header and body of the POST request\n",
    "headers = {'Content-Type': 'application/json'}\n",
    "body = {\"email\": user_email, \"password\": password}\n",
    "\n",
    "# Send request\n",
    "r = requests.post(UserApi + 'auth', headers=headers, json=body)\n",
    "\n",
    "# Keep the cookies\n",
    "cookies = r.cookies\n",
    "\n",
    "# Check data returned by JEA\n",
    "r.json()"
   ]
  },
  {
   "cell_type": "markdown",
   "metadata": {},
   "source": [
    "The JESS Web platform uses JSON Web Tokens (JWT) as the authentication mechanism. If logged on successfully, a JWT key used as the session token will be returned by the service as a cookie. The session token needs to be kept safe and sent with any commands requiring authentication. Here is how you get the session token cookie and view its contents. Please note that the token has a limited life span of a few hours, during which time it must be kept a secrete."
   ]
  },
  {
   "cell_type": "markdown",
   "metadata": {},
   "source": [
    "To check if a session is still valid, we can use the 'checkin' command. This command also demonstrates how the session token cookie being used for authentication in the commands that require it. If 'checkin' with the existing token is successful, a new token will be returned hence we can extend the life span of the current session. Just remember to store the updated cookies."
   ]
  },
  {
   "cell_type": "code",
   "execution_count": 7,
   "metadata": {},
   "outputs": [
    {
     "data": {
      "text/plain": [
       "{'ok': True,\n",
       " 'status': 'Session renewed successfully!',\n",
       " 'jwt': 'Session key cookie',\n",
       " 'user': 'Yi',\n",
       " 'role': 'user',\n",
       " 'email': 'yi@jeplus.org'}"
      ]
     },
     "execution_count": 7,
     "metadata": {},
     "output_type": "execute_result"
    }
   ],
   "source": [
    "# Check-in\n",
    "r = requests.post(UserApi + 'checkin', cookies=cookies)\n",
    "\n",
    "# Update the copy of the key if successful\n",
    "if r.json()['ok']:\n",
    "    cookies = r.cookies\n",
    "\n",
    "# Show the response\n",
    "r.json()"
   ]
  },
  {
   "cell_type": "markdown",
   "metadata": {},
   "source": [
    "## Upload, download, and view files\n",
    "\n",
    "We can upload files to a storage area linked to this user account. These files can be used for simulation (see JESS API) or optimisation projects (see JEA API) later. With certain file types, e.g. the EPW, ESO and IDF files, we can also use this facility as a viewer. \n",
    "\n",
    "(**Please note** that the upload area for ENSIMS Web Service users are not backed up, hence it should be used as a transient storage. ENSIMS is not responsible for any file losses.)\n"
   ]
  },
  {
   "cell_type": "markdown",
   "metadata": {},
   "source": [
    "To upload a file to a specific folder, we can use POST files/"
   ]
  },
  {
   "cell_type": "code",
   "execution_count": 18,
   "metadata": {},
   "outputs": [
    {
     "data": {
      "text/plain": [
       "{'ok': True,\n",
       " 'status': 'File(s) uploaded successfully',\n",
       " 'fileHandle': 'test/0',\n",
       " 'callback': '/users/api/files/test/0'}"
      ]
     },
     "execution_count": 18,
     "metadata": {},
     "output_type": "execute_result"
    }
   ],
   "source": [
    "# upload a file to a particular folder\n",
    "folder = \"test/0\"\n",
    "files = {'file': open('c:\\\\windows\\\\win.ini', 'rb')}\n",
    "\n",
    "# POST with files\n",
    "r = requests.post(UserApi + 'files/' + folder, files=files, cookies=cookies)\n",
    "\n",
    "# Show the returned status\n",
    "r.json()"
   ]
  },
  {
   "cell_type": "markdown",
   "metadata": {},
   "source": [
    "We can view the contents of the upload area, or a sub-folder in there, using the `GET files/` comamnd. It will retrieve the contents of the specified folder in a tree structure:"
   ]
  },
  {
   "cell_type": "code",
   "execution_count": 19,
   "metadata": {},
   "outputs": [
    {
     "data": {
      "text/plain": [
       "{'fileName': '/test/0',\n",
       " 'open': True,\n",
       " 'nocheck': True,\n",
       " 'fileSize': 0,\n",
       " 'children': [{'fileName': 'win.ini',\n",
       "   'open': False,\n",
       "   'nocheck': False,\n",
       "   'fileSize': 167,\n",
       "   'children': [],\n",
       "   'name': 'win.ini (0.17 KB)'}],\n",
       " 'name': '/test/0'}"
      ]
     },
     "execution_count": 19,
     "metadata": {},
     "output_type": "execute_result"
    }
   ],
   "source": [
    "# retrieve files in a particular folder\n",
    "folder = \"test/0\"\n",
    "r = requests.get(UserApi + 'files/' + folder, cookies=cookies)\n",
    "\n",
    "# Show the returned status\n",
    "r.json()"
   ]
  },
  {
   "cell_type": "markdown",
   "metadata": {},
   "source": [
    "The same command downloads the file if the paths are pointing to a file instead of a folder:"
   ]
  },
  {
   "cell_type": "code",
   "execution_count": 20,
   "metadata": {},
   "outputs": [
    {
     "name": "stdout",
     "output_type": "stream",
     "text": [
      "; for 16-bit app support\n",
      "[fonts]\n",
      "[extensions]\n",
      "[mci extensions]\n",
      "[files]\n",
      "[Mail]\n",
      "MAPI=1\n",
      "CMCDLLNAME32=mapi32.dll\n",
      "CMC=1\n",
      "MAPIX=1\n",
      "MAPIXVER=1.0.0.1\n",
      "OLEMessaging=1\n",
      "\n"
     ]
    }
   ],
   "source": [
    "# retrieve a file in a particular folder\n",
    "filepath = \"test/0/win.ini\"\n",
    "r = requests.get(UserApi + 'files/' + filepath, cookies=cookies)\n",
    "\n",
    "# Show the contents of the downloaded file\n",
    "print(r.text)"
   ]
  },
  {
   "cell_type": "markdown",
   "metadata": {},
   "source": [
    "When a zip archive containing multiple files and folders is uploaded, its contents will be extracted automatically and stored in the user's upload area, as shown in the example here. Please note the returned file handle may be the target folder in the user's area, or the root folder of the zip file residing in the target folder, depending on how the zip archive is created."
   ]
  },
  {
   "cell_type": "code",
   "execution_count": 23,
   "metadata": {},
   "outputs": [
    {
     "data": {
      "text/plain": [
       "{'ok': True,\n",
       " 'status': 'File(s) uploaded successfully',\n",
       " 'fileHandle': 'Shoebox_v8.9',\n",
       " 'callback': '/users/api/files/Shoebox_v8.9'}"
      ]
     },
     "execution_count": 23,
     "metadata": {},
     "output_type": "execute_result"
    }
   ],
   "source": [
    "# upload a file to a particular folder\n",
    "folder = \"\"\n",
    "files = {'file': open('job_example\\\\Shoebox_v8.9.zip', 'rb')}\n",
    "\n",
    "# POST with files\n",
    "r = requests.post(UserApi + 'files/' + folder, files=files, cookies=cookies)\n",
    "\n",
    "# Show the returned status\n",
    "r.json()"
   ]
  },
  {
   "cell_type": "markdown",
   "metadata": {},
   "source": [
    "The contents of the zip archive will be extracted to `Shoebox_v89`. We can check its contents."
   ]
  },
  {
   "cell_type": "code",
   "execution_count": 24,
   "metadata": {},
   "outputs": [
    {
     "data": {
      "text/plain": [
       "{'fileName': '/Shoebox_v8.9',\n",
       " 'open': True,\n",
       " 'nocheck': True,\n",
       " 'fileSize': 0,\n",
       " 'children': [{'fileName': '2030_Heathrow_a1fi_50_percentile_TRY.epw',\n",
       "   'open': False,\n",
       "   'nocheck': False,\n",
       "   'fileSize': 1439809,\n",
       "   'children': [],\n",
       "   'name': '2030_Heathrow_a1fi_50_percentile_TRY.epw (1.44 MB)'},\n",
       "  {'fileName': '2050_Heathrow_a1fi_50_percentile_TRY.epw',\n",
       "   'open': False,\n",
       "   'nocheck': False,\n",
       "   'fileSize': 1440039,\n",
       "   'children': [],\n",
       "   'name': '2050_Heathrow_a1fi_50_percentile_TRY.epw (1.44 MB)'},\n",
       "  {'fileName': '2080_Heathrow_a1fi_50_percentile_TRY.epw',\n",
       "   'open': False,\n",
       "   'nocheck': False,\n",
       "   'fileSize': 1441330,\n",
       "   'children': [],\n",
       "   'name': '2080_Heathrow_a1fi_50_percentile_TRY.epw (1.44 MB)'},\n",
       "  {'fileName': 'cntr_Heathrow_TRY.epw',\n",
       "   'open': False,\n",
       "   'nocheck': False,\n",
       "   'fileSize': 1438895,\n",
       "   'children': [],\n",
       "   'name': 'cntr_Heathrow_TRY.epw (1.44 MB)'},\n",
       "  {'fileName': 'joblist_out.csv',\n",
       "   'open': False,\n",
       "   'nocheck': False,\n",
       "   'fileSize': 4837,\n",
       "   'children': [],\n",
       "   'name': 'joblist_out.csv (4.84 KB)'},\n",
       "  {'fileName': 'jobs.txt',\n",
       "   'open': False,\n",
       "   'nocheck': False,\n",
       "   'fileSize': 3203,\n",
       "   'children': [],\n",
       "   'name': 'jobs.txt (3.20 KB)'},\n",
       "  {'fileName': 'project.json',\n",
       "   'open': False,\n",
       "   'nocheck': False,\n",
       "   'fileSize': 7822,\n",
       "   'children': [],\n",
       "   'name': 'project.json (7.82 KB)'},\n",
       "  {'fileName': 'shoebox.idf',\n",
       "   'open': False,\n",
       "   'nocheck': False,\n",
       "   'fileSize': 223949,\n",
       "   'children': [],\n",
       "   'name': 'shoebox.idf (223.9 KB)'}],\n",
       " 'name': '/Shoebox_v8.9'}"
      ]
     },
     "execution_count": 24,
     "metadata": {},
     "output_type": "execute_result"
    }
   ],
   "source": [
    "# retrieve files in a particular folder\n",
    "folder = r.json()['fileHandle']\n",
    "r = requests.get(UserApi + 'files/' + folder, cookies=cookies)\n",
    "\n",
    "# Show the returned status\n",
    "r.json()"
   ]
  },
  {
   "cell_type": "markdown",
   "metadata": {},
   "source": [
    "To delet a file or a folder with everything in it, use the DELETE files/ command:"
   ]
  },
  {
   "cell_type": "code",
   "execution_count": 25,
   "metadata": {},
   "outputs": [
    {
     "data": {
      "text/plain": [
       "{'ok': True, 'status': 'Shoebox_v8.9 has been deleted'}"
      ]
     },
     "execution_count": 25,
     "metadata": {},
     "output_type": "execute_result"
    }
   ],
   "source": [
    "# delete a file from the given folder\n",
    "filepath = 'Shoebox_v8.9'\n",
    "\n",
    "# DELETE with files\n",
    "r = requests.delete(UserApi + 'files/' + filepath, cookies=cookies)\n",
    "\n",
    "# Show the returned status\n",
    "r.json()"
   ]
  },
  {
   "cell_type": "markdown",
   "metadata": {},
   "source": [
    "Finally, ENSIMS Web Service currently provides viewers for EPW, ESO, IDF and DXF files. Their uses will be shown in separate demos. "
   ]
  },
  {
   "cell_type": "markdown",
   "metadata": {},
   "source": [
    "## End of Demo\n"
   ]
  },
  {
   "cell_type": "code",
   "execution_count": null,
   "metadata": {},
   "outputs": [],
   "source": []
  }
 ],
 "metadata": {
  "kernelspec": {
   "display_name": "Python 3",
   "language": "python",
   "name": "python3"
  },
  "language_info": {
   "codemirror_mode": {
    "name": "ipython",
    "version": 3
   },
   "file_extension": ".py",
   "mimetype": "text/x-python",
   "name": "python",
   "nbconvert_exporter": "python",
   "pygments_lexer": "ipython3",
   "version": "3.8.0"
  }
 },
 "nbformat": 4,
 "nbformat_minor": 4
}
