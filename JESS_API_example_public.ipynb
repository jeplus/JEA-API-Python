{
 "cells": [
  {
   "cell_type": "markdown",
   "metadata": {},
   "source": [
    "# JESS API Example\n",
    "This notebook shows a simple example of running optimisation using the [JESS Engine API](https://www.jeplus.org/wiki/doku.php?id=docs:jea:jea_api \"Go to JESS API docs\"). \n",
    "\n",
    "Let's start with loading the necessary package and testing the connection to the server. The \"[Requests: HTTP for Humans](http://python-requests.org \"Go to Python Requests website\")\" is shown here, although other http packaages can be used too. \n",
    "\n",
    "After loading the Request package, we can run the Info command. Info is the simplest command and does not require authentication, so it works also if you copy and paste the URL to a browser, or [click here](https://api.ensims.com/jess_web/api/info \"Try Info command in browser\")."
   ]
  },
  {
   "cell_type": "code",
   "execution_count": 53,
   "metadata": {},
   "outputs": [
    {
     "data": {
      "text/plain": [
       "{'Title': 'JESS Web API',\n",
       " 'Description': 'JESS online simulation services API provided by ENSIMS Ltd.',\n",
       " 'Major': 1,\n",
       " 'Minor': 0,\n",
       " 'Revision': 0,\n",
       " 'Release': 'beta',\n",
       " 'Update': 1,\n",
       " 'Notice': '(C) 2020, Energy Simulation Solutions Ltd. All rights reserved.'}"
      ]
     },
     "execution_count": 53,
     "metadata": {},
     "output_type": "execute_result"
    }
   ],
   "source": [
    "# Use requests (see https://requests.readthedocs.io/en/master/)\n",
    "import requests\n",
    "\n",
    "# API endpoint URL\n",
    "ApiBase = 'https://api.ensims.com/'\n",
    "# ApiBase = 'https://localhost:8443/'\n",
    "JessApi = ApiBase + \"jess_web/api/\"\n",
    "UserApi = ApiBase + 'users/api/'\n",
    "\n",
    "# Test connection\n",
    "r = requests.get(JessApi + 'info')\n",
    "r.json()"
   ]
  },
  {
   "cell_type": "markdown",
   "metadata": {},
   "source": [
    "The request returns data in JSON format, which most of the JESS Web API uses. To see the data, use the 'json()' function. We can also access its fields like this:"
   ]
  },
  {
   "cell_type": "code",
   "execution_count": 2,
   "metadata": {},
   "outputs": [
    {
     "data": {
      "text/plain": [
       "'JESS Web API'"
      ]
     },
     "execution_count": 2,
     "metadata": {},
     "output_type": "execute_result"
    }
   ],
   "source": [
    "r.json()['Title']"
   ]
  },
  {
   "cell_type": "markdown",
   "metadata": {},
   "source": [
    "## Authentication\n",
    "\n",
    "First, we need to log on to the JESS Web platform. More details of the authentication and account commands are available in the Users_API example notebook and the releveant documentation. Here, we just log on using the existing credential and then store the cookies."
   ]
  },
  {
   "cell_type": "code",
   "execution_count": 54,
   "metadata": {},
   "outputs": [
    {
     "name": "stdin",
     "output_type": "stream",
     "text": [
      "Password for yi@jeplus.org:  ········\n"
     ]
    },
    {
     "data": {
      "text/plain": [
       "{'ok': True,\n",
       " 'status': 'Logged in successfully!',\n",
       " 'jwt': 'Session token in cookie',\n",
       " 'user': 'Yi',\n",
       " 'role': 'pro',\n",
       " 'email': 'yi@jeplus.org'}"
      ]
     },
     "execution_count": 54,
     "metadata": {},
     "output_type": "execute_result"
    }
   ],
   "source": [
    "# Get log in credential\n",
    "import getpass\n",
    "user_email = \"yi@jeplus.org\"\n",
    "password = getpass.getpass(\"Password for \" + user_email + \": \")\n",
    "\n",
    "# Set header and body of the POST request\n",
    "headers = {'Content-Type': 'application/json'}\n",
    "body = {\"email\": user_email, \"password\": password}\n",
    "\n",
    "# Send request\n",
    "r = requests.post(UserApi + 'auth', headers=headers, json=body)\n",
    "\n",
    "# Keep the cookies which contain the session token for secured requests\n",
    "cookies = r.cookies\n",
    "\n",
    "# Show data returned by JESS\n",
    "r.json()"
   ]
  },
  {
   "cell_type": "markdown",
   "metadata": {},
   "source": [
    "**If you have already done the step described below, please move on to the Run Simulations section**\n",
    "\n",
    "If this is the first time you access JESS in this way, you will enable the service by linking an existing JESS account to your ENSIMS web service account. Please note that JESS is paid service and its accounts are provided on request only. Please use this form to make a request: [http://cms.ensims.com/index.php/jess-online/get-jess-account]\n",
    "\n",
    "This is how to enable JESS:"
   ]
  },
  {
   "cell_type": "code",
   "execution_count": 57,
   "metadata": {},
   "outputs": [
    {
     "name": "stdin",
     "output_type": "stream",
     "text": [
      "JESS account password for TestUser:  ········\n"
     ]
    },
    {
     "data": {
      "text/plain": [
       "{'ok': True, 'status': 'New JESS session key is assigned.', 'data': None}"
      ]
     },
     "execution_count": 57,
     "metadata": {},
     "output_type": "execute_result"
    }
   ],
   "source": [
    "# JESS account creds \n",
    "username = \"TestUser\"\n",
    "password = getpass.getpass(\"JESS account password for \" + username + \": \")\n",
    "\n",
    "# Set header and body of the POST request\n",
    "headers = {'Content-Type': 'application/json'}\n",
    "body = {\"jessUser\": username, \"jessPwd\": password}\n",
    "\n",
    "# Send request\n",
    "r = requests.post(JessApi + 'session', headers=headers, json=body, cookies=cookies)\n",
    "\n",
    "# Show returned message\n",
    "r.json()"
   ]
  },
  {
   "cell_type": "markdown",
   "metadata": {},
   "source": [
    "## Run simulations directly\n",
    "\n",
    "The quickest way to run simulations is by using the upload and run command (POST job/). This involves wrapping all the information about the simulation job to run, including the necessary files, in multipart form data. Here is an example."
   ]
  },
  {
   "cell_type": "code",
   "execution_count": 11,
   "metadata": {},
   "outputs": [
    {
     "data": {
      "text/plain": [
       "'C:\\\\dev\\\\python\\\\JESS-Web-API'"
      ]
     },
     "execution_count": 11,
     "metadata": {},
     "output_type": "execute_result"
    }
   ],
   "source": [
    "pwd"
   ]
  },
  {
   "cell_type": "code",
   "execution_count": 69,
   "metadata": {},
   "outputs": [
    {
     "data": {
      "text/plain": [
       "{'ok': True, 'status': 'Job 303264 is created', 'data': 303264}"
      ]
     },
     "execution_count": 69,
     "metadata": {},
     "output_type": "execute_result"
    }
   ],
   "source": [
    "# upload a file to a particular folder. Becareful that the file name fields and the model/weather fields must match!\n",
    "files = [\n",
    "    ('file', ('5ZoneAirCooled-v93.idf', open('job_example\\\\5ZoneAirCooled-v93.idf', 'rb'), 'text/plain')),\n",
    "    ('file', ('in.epw', open('job_example\\\\in.epw', 'rb'), 'text/plain')),\n",
    "    ('title', 'Test job'),\n",
    "    ('desc', 'This is test submission made from python example'),\n",
    "    ('model', '5ZoneAirCooled-v93.idf'),\n",
    "    ('split', 'FALSE'),\n",
    "    ('weather', 'in.epw')\n",
    "]\n",
    "\n",
    "# POST with files\n",
    "r = requests.post(JessApi + 'job', files=files, cookies=cookies)\n",
    "\n",
    "# Get job_id. This id number will be needed for querying and retrieving the job data\n",
    "job_id = r.json()['data']\n",
    "\n",
    "# Show the returned status\n",
    "r.json()"
   ]
  },
  {
   "cell_type": "markdown",
   "metadata": {},
   "source": [
    "If job submission is successful, JESS returns an acknowledgement with the ok status set to True, and the job id in the 'data' field. The job id is important for accessing simulation later."
   ]
  },
  {
   "cell_type": "markdown",
   "metadata": {},
   "source": [
    "## Check job status\n",
    "\n"
   ]
  },
  {
   "cell_type": "code",
   "execution_count": 72,
   "metadata": {},
   "outputs": [
    {
     "data": {
      "text/plain": [
       "{'ok': True,\n",
       " 'status': '303264 status available',\n",
       " 'data': {'completion_Time': 1600773747018,\n",
       "  'cancel_Flag': False,\n",
       "  'last_Update': 1600773747029,\n",
       "  'status_Info': 'Job finished. Results collected into tables.',\n",
       "  'job_ID': 303264,\n",
       "  'progress': '1, 0, 0, 0, 0, 0, 1',\n",
       "  'id': 303209,\n",
       "  'status': 'FINISHED'}}"
      ]
     },
     "execution_count": 72,
     "metadata": {},
     "output_type": "execute_result"
    }
   ],
   "source": [
    "# GET job status with job_id\n",
    "r = requests.get(JessApi + 'job/status/' + str(job_id), cookies=cookies)\n",
    "\n",
    "# Show the returned status\n",
    "r.json()"
   ]
  },
  {
   "cell_type": "markdown",
   "metadata": {},
   "source": [
    "## Retrieve job output\n",
    "\n"
   ]
  },
  {
   "cell_type": "code",
   "execution_count": 73,
   "metadata": {},
   "outputs": [
    {
     "data": {
      "text/plain": [
       "{'ok': True,\n",
       " 'status': '303264 status available',\n",
       " 'data': {'fileName': 'Result folder',\n",
       "  'open': True,\n",
       "  'nocheck': True,\n",
       "  'fileSize': 0,\n",
       "  'children': [{'fileName': 'console.log',\n",
       "    'open': False,\n",
       "    'nocheck': False,\n",
       "    'fileSize': 5430,\n",
       "    'children': [],\n",
       "    'name': 'console.log (5.43 KB)'},\n",
       "   {'fileName': 'eplusout.bnd',\n",
       "    'open': False,\n",
       "    'nocheck': False,\n",
       "    'fileSize': 62315,\n",
       "    'children': [],\n",
       "    'name': 'eplusout.bnd (62.31 KB)'},\n",
       "   {'fileName': 'eplusout.dxf',\n",
       "    'open': False,\n",
       "    'nocheck': False,\n",
       "    'fileSize': 17064,\n",
       "    'children': [],\n",
       "    'name': 'eplusout.dxf (17.06 KB)'},\n",
       "   {'fileName': 'eplusout.eio',\n",
       "    'open': False,\n",
       "    'nocheck': False,\n",
       "    'fileSize': 54891,\n",
       "    'children': [],\n",
       "    'name': 'eplusout.eio (54.89 KB)'},\n",
       "   {'fileName': 'eplusout.end',\n",
       "    'open': False,\n",
       "    'nocheck': False,\n",
       "    'fileSize': 97,\n",
       "    'children': [],\n",
       "    'name': 'eplusout.end (0.10 KB)'},\n",
       "   {'fileName': 'eplusout.err',\n",
       "    'open': False,\n",
       "    'nocheck': False,\n",
       "    'fileSize': 1514,\n",
       "    'children': [],\n",
       "    'name': 'eplusout.err (1.51 KB)'},\n",
       "   {'fileName': 'eplusout.eso',\n",
       "    'open': False,\n",
       "    'nocheck': False,\n",
       "    'fileSize': 10757435,\n",
       "    'children': [],\n",
       "    'name': 'eplusout.eso (10.76 MB)'},\n",
       "   {'fileName': 'eplusout.mdd',\n",
       "    'open': False,\n",
       "    'nocheck': False,\n",
       "    'fileSize': 4190,\n",
       "    'children': [],\n",
       "    'name': 'eplusout.mdd (4.19 KB)'},\n",
       "   {'fileName': 'eplusout.mtd',\n",
       "    'open': False,\n",
       "    'nocheck': False,\n",
       "    'fileSize': 37725,\n",
       "    'children': [],\n",
       "    'name': 'eplusout.mtd (37.72 KB)'},\n",
       "   {'fileName': 'eplusout.mtr',\n",
       "    'open': False,\n",
       "    'nocheck': False,\n",
       "    'fileSize': 10573,\n",
       "    'children': [],\n",
       "    'name': 'eplusout.mtr (10.57 KB)'},\n",
       "   {'fileName': 'eplusout.rdd',\n",
       "    'open': False,\n",
       "    'nocheck': False,\n",
       "    'fileSize': 31449,\n",
       "    'children': [],\n",
       "    'name': 'eplusout.rdd (31.45 KB)'},\n",
       "   {'fileName': 'eplusout.shd',\n",
       "    'open': False,\n",
       "    'nocheck': False,\n",
       "    'fileSize': 10523,\n",
       "    'children': [],\n",
       "    'name': 'eplusout.shd (10.52 KB)'},\n",
       "   {'fileName': 'eplusout.wrl',\n",
       "    'open': False,\n",
       "    'nocheck': False,\n",
       "    'fileSize': 19866,\n",
       "    'children': [],\n",
       "    'name': 'eplusout.wrl (19.87 KB)'},\n",
       "   {'fileName': 'eplusssz.csv',\n",
       "    'open': False,\n",
       "    'nocheck': False,\n",
       "    'fileSize': 13895,\n",
       "    'children': [],\n",
       "    'name': 'eplusssz.csv (13.90 KB)'},\n",
       "   {'fileName': 'eplustbl.htm',\n",
       "    'open': False,\n",
       "    'nocheck': False,\n",
       "    'fileSize': 596643,\n",
       "    'children': [],\n",
       "    'name': 'eplustbl.htm (596.6 KB)'},\n",
       "   {'fileName': 'epluszsz.csv',\n",
       "    'open': False,\n",
       "    'nocheck': False,\n",
       "    'fileSize': 28041,\n",
       "    'children': [],\n",
       "    'name': 'epluszsz.csv (28.04 KB)'},\n",
       "   {'fileName': 'in.epw',\n",
       "    'open': False,\n",
       "    'nocheck': False,\n",
       "    'fileSize': 1547758,\n",
       "    'children': [],\n",
       "    'name': 'in.epw (1.55 MB)'},\n",
       "   {'fileName': 'in.idf',\n",
       "    'open': False,\n",
       "    'nocheck': False,\n",
       "    'fileSize': 160502,\n",
       "    'children': [],\n",
       "    'name': 'in.idf (160.5 KB)'},\n",
       "   {'fileName': 'job.done!',\n",
       "    'open': False,\n",
       "    'nocheck': False,\n",
       "    'fileSize': 0,\n",
       "    'children': [],\n",
       "    'name': 'job.done! (0.00 KB)'},\n",
       "   {'fileName': 'sqlite.err',\n",
       "    'open': False,\n",
       "    'nocheck': False,\n",
       "    'fileSize': 0,\n",
       "    'children': [],\n",
       "    'name': 'sqlite.err (0.00 KB)'},\n",
       "   {'fileName': 'time_stamps.txt',\n",
       "    'open': False,\n",
       "    'nocheck': False,\n",
       "    'fileSize': 237,\n",
       "    'children': [],\n",
       "    'name': 'time_stamps.txt (0.24 KB)'}],\n",
       "  'name': 'Result folder'}}"
      ]
     },
     "execution_count": 73,
     "metadata": {},
     "output_type": "execute_result"
    }
   ],
   "source": [
    "# GET job status with job_id\n",
    "r = requests.get(JessApi + 'job/dir/' + str(job_id), cookies=cookies)\n",
    "\n",
    "# Show the returned status\n",
    "r.json()"
   ]
  },
  {
   "cell_type": "markdown",
   "metadata": {},
   "source": [
    "Okay, now we can retrieve any file in its text form from the server:"
   ]
  },
  {
   "cell_type": "code",
   "execution_count": 65,
   "metadata": {},
   "outputs": [
    {
     "name": "stdout",
     "output_type": "stream",
     "text": [
      "Program Version,EnergyPlus, Version 9.3.0-baff08990c, YMD=2020.09.22 12:17,\n",
      "   ************* Beginning Zone Sizing Calculations\n",
      "   ** Warning ** Weather file location will be used rather than entered (IDF) Location object.\n",
      "   **   ~~~   ** ..Location object=CHICAGO_IL_USA TMY2-94846\n",
      "   **   ~~~   ** ..Weather File Location=LONDON/GATWICK - GBR IWEC Data WMO#=037760\n",
      "   **   ~~~   ** ..due to location differences, Latitude difference=[9.37] degrees, Longitude difference=[87.57] degrees.\n",
      "   **   ~~~   ** ..Time Zone difference=[6.0] hour(s), Elevation difference=[67.37] percent, [128.00] meters.\n",
      "   ************* Beginning System Sizing Calculations\n",
      "   ************* Beginning Plant Sizing Calculations\n",
      "   ************* Testing Individual Branch Integrity\n",
      "   ************* All Branches passed integrity testing\n",
      "   ************* Testing Individual Supply Air Path Integrity\n",
      "   ************* All Supply Air Paths passed integrity testing\n",
      "   ************* Testing Individual Return Air Path Integrity\n",
      "   ************* All Return Air Paths passed integrity testing\n",
      "   ************* No node connection errors were found.\n",
      "   ************* Beginning Simulation\n",
      "   ************* Simulation Error Summary *************\n",
      "   ************* EnergyPlus Warmup Error Summary. During Warmup: 0 Warning; 0 Severe Errors.\n",
      "   ************* EnergyPlus Sizing Error Summary. During Sizing: 1 Warning; 0 Severe Errors.\n",
      "   ************* EnergyPlus Completed Successfully-- 1 Warning; 0 Severe Errors; Elapsed Time=00hr 00min  5.98sec\n",
      "\n"
     ]
    }
   ],
   "source": [
    "# GET specific job output with job_id and file name\n",
    "r = requests.get(JessApi + 'job/file/' + str(job_id) + \"/eplusout.err\", cookies=cookies)\n",
    "\n",
    "# Show the returned status\n",
    "print(r.text)"
   ]
  },
  {
   "cell_type": "markdown",
   "metadata": {},
   "source": [
    "Or download all files of the job as a zip package, and write it to the local disk."
   ]
  },
  {
   "cell_type": "code",
   "execution_count": 25,
   "metadata": {},
   "outputs": [
    {
     "name": "stdout",
     "output_type": "stream",
     "text": [
      "3129240 bytes written to job_example\\303243.zip\n"
     ]
    }
   ],
   "source": [
    "# Download all job output in as a zip file\n",
    "r = requests.get(JessApi + 'job/file/' + str(job_id), cookies=cookies)\n",
    "\n",
    "# Show the returned status\n",
    "bytes = open('job_example\\\\' + str(job_id) + '.zip', 'wb').write(r.content)\n",
    "\n",
    "# Show the returned status\n",
    "print(str(bytes) + ' bytes written to ' + 'job_example\\\\' + str(job_id) + '.zip')"
   ]
  },
  {
   "cell_type": "markdown",
   "metadata": {},
   "source": [
    "## File viewers\n",
    "\n",
    "So this is how we can run simulations on JESS and then retrieve the results. But this is not all what the new JESS web service allows us to do. Here is an example of how to the file viewer.\n",
    "\n",
    "First, lets see what jobs we have run on JESS today:"
   ]
  },
  {
   "cell_type": "code",
   "execution_count": 74,
   "metadata": {},
   "outputs": [
    {
     "name": "stdout",
     "output_type": "stream",
     "text": [
      "2020-09-22\n"
     ]
    },
    {
     "data": {
      "text/plain": [
       "{'ok': True,\n",
       " 'status': 'TestUser jobs available',\n",
       " 'data': [{'cputime': 6,\n",
       "   'job_SN': 303263,\n",
       "   'job_Subset': 'ALL',\n",
       "   'job_Args': '',\n",
       "   'received': 1600773456093,\n",
       "   'njobs': 1,\n",
       "   'submissionSize': 0,\n",
       "   'storageSize': 15054912,\n",
       "   'resultSize': 0,\n",
       "   'job_Name': 'Test job',\n",
       "   'progress': '1, 0, 0, 0, 0, 0, 1',\n",
       "   'id': 1,\n",
       "   'status': 'FINISHED',\n",
       "   'username': 'TestUser',\n",
       "   'job_Type': 'EP_IDF',\n",
       "   'message': 'Job finished. Results collected into tables.'},\n",
       "  {'cputime': 6,\n",
       "   'job_SN': 303264,\n",
       "   'job_Subset': 'ALL',\n",
       "   'job_Args': '',\n",
       "   'received': 1600773727690,\n",
       "   'njobs': 1,\n",
       "   'submissionSize': 0,\n",
       "   'storageSize': 15072039,\n",
       "   'resultSize': 0,\n",
       "   'job_Name': 'Test job',\n",
       "   'progress': '1, 0, 0, 0, 0, 0, 1',\n",
       "   'id': 1,\n",
       "   'status': 'FINISHED',\n",
       "   'username': 'TestUser',\n",
       "   'job_Type': 'EP_IDF',\n",
       "   'message': 'Job finished. Results collected into tables.'}]}"
      ]
     },
     "execution_count": 74,
     "metadata": {},
     "output_type": "execute_result"
    }
   ],
   "source": [
    "# !! This part is not working !!\n",
    "from datetime import date\n",
    "\n",
    "today = date.today()\n",
    "\n",
    "# YYYY-mm-dd\n",
    "dstr = today.strftime(\"%Y-%m-%d\")\n",
    "print(dstr)\n",
    "\n",
    "# GET the list of jobs fit the given criteria\n",
    "filter = {\"since\": dstr, \"till\": dstr, \"status\": \"FINISHED\"}\n",
    "\n",
    "r = requests.get(JessApi + 'jobs', headers=headers, json=filter, cookies=cookies)\n",
    "\n",
    "r.json()"
   ]
  },
  {
   "cell_type": "markdown",
   "metadata": {},
   "source": [
    "Now we can show a DXF model viewer here using an IFrame."
   ]
  },
  {
   "cell_type": "code",
   "execution_count": 81,
   "metadata": {},
   "outputs": [
    {
     "data": {
      "text/html": [
       "\n",
       "        <iframe\n",
       "            width=\"100%\"\n",
       "            height=\"650\"\n",
       "            src=\"https://app.ensims.com/3d.html?model=303264/eplusout.dxf\"\n",
       "            frameborder=\"0\"\n",
       "            allowfullscreen\n",
       "        ></iframe>\n",
       "        "
      ],
      "text/plain": [
       "<IPython.lib.display.IFrame at 0x21c0faf8f40>"
      ]
     },
     "execution_count": 81,
     "metadata": {},
     "output_type": "execute_result"
    }
   ],
   "source": [
    "from IPython.display import IFrame    \n",
    "IFrame(src='https://app.ensims.com/3d.html?model=' + str(job_id) + '/eplusout.dxf', width='100%', height=650)"
   ]
  },
  {
   "cell_type": "markdown",
   "metadata": {},
   "source": [
    "It is also possible to access the 3D model in JSON format, which may be useful for integrating with other renders."
   ]
  },
  {
   "cell_type": "code",
   "execution_count": 75,
   "metadata": {},
   "outputs": [
    {
     "data": {
      "text/plain": [
       "{'ok': True,\n",
       " 'status': 'Model is ready to view. Use the model reference in the data field.',\n",
       " 'data': 'bb958233c3ff59d139ccd1dd48d8a733'}"
      ]
     },
     "execution_count": 75,
     "metadata": {},
     "output_type": "execute_result"
    }
   ],
   "source": [
    "# Or to request the DXF to be processed and a model reference returned\n",
    "r = requests.get(JessApi + 'dxf/' + str(job_id) + '/eplusout.dxf', cookies=cookies)\n",
    "\n",
    "# Save model ref for accessing json 3D model data\n",
    "model_ref = r.json()['data']\n",
    "\n",
    "r.json()"
   ]
  },
  {
   "cell_type": "markdown",
   "metadata": {},
   "source": [
    "This is the end of the current demo. More demos are in development and will be released, soon."
   ]
  },
  {
   "cell_type": "markdown",
   "metadata": {},
   "source": [
    "## End of Demo\n",
    "\n",
    "This is the end of the current demo. More demos are in development and will be released, soon.\n"
   ]
  }
 ],
 "metadata": {
  "kernelspec": {
   "display_name": "Python 3",
   "language": "python",
   "name": "python3"
  },
  "language_info": {
   "codemirror_mode": {
    "name": "ipython",
    "version": 3
   },
   "file_extension": ".py",
   "mimetype": "text/x-python",
   "name": "python",
   "nbconvert_exporter": "python",
   "pygments_lexer": "ipython3",
   "version": "3.8.0"
  }
 },
 "nbformat": 4,
 "nbformat_minor": 4
}
