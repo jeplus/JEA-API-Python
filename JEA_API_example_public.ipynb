{
 "cells": [
  {
   "cell_type": "markdown",
   "metadata": {},
   "source": [
    "# JEA API Example\n",
    "This notebook shows a simple example of running optimisation using the [JEA Engine API](https://www.jeplus.org/wiki/doku.php?id=docs:jea:jea_api \"Go to JEA API docs\") as part of the ENSIMS Web Service platform. Documentation of the service and the API are still under development. This demo can be used as a quick start guide.\n",
    "\n",
    "Let's start with loading the necessary package and testing the connection to the server. The \"[Requests: HTTP for Humans](http://python-requests.org \"Go to Python Requests website\")\" is shown here, although other http packaages can be used too. \n",
    "\n",
    "After loading the Request package, we can run the Info command. Info is the simplest command and does not require authentication, so it works also if you copy and paste the URL to a browser, or [click here](http://jea.ensims.com/jea_web/api/info \"Try Info command in browser\")."
   ]
  },
  {
   "cell_type": "code",
   "execution_count": 1,
   "metadata": {},
   "outputs": [],
   "source": [
    "# Use requests (see https://requests.readthedocs.io/en/master/)\n",
    "import requests\n",
    "\n",
    "# API endpoint URL\n",
    "ApiBase = 'https://api.ensims.com/'\n",
    "JeaApi = ApiBase + \"jea_web/api/\"\n",
    "UserApi = ApiBase + 'users/api/'\n",
    "\n",
    "# Test connection\n",
    "r = requests.get(JeaApi + 'info')"
   ]
  },
  {
   "cell_type": "markdown",
   "metadata": {},
   "source": [
    "Requests will make a GET request to the given URL, and store the returned data in 'r'. We can see the contents of 'r' in text form:"
   ]
  },
  {
   "cell_type": "code",
   "execution_count": 2,
   "metadata": {},
   "outputs": [
    {
     "name": "stdout",
     "output_type": "stream",
     "text": [
      "{\n",
      "  \"Title\" : \"JEA Engine/API\",\n",
      "  \"Description\" : \"an optimisation service provided by ENSIMS Ltd.\",\n",
      "  \"Major\" : 1,\n",
      "  \"Minor\" : 0,\n",
      "  \"Revision\" : 2,\n",
      "  \"Release\" : \"stable\",\n",
      "  \"Update\" : 0,\n",
      "  \"Notice\" : \"(C) 2016 - 2019, Energy Simulation Solutions Ltd. All rights reserved.\"\n",
      "}\n"
     ]
    }
   ],
   "source": [
    "print(r.text)"
   ]
  },
  {
   "cell_type": "markdown",
   "metadata": {},
   "source": [
    "Or see it as a data object using the 'json()' function. Most of the JEA API commands accepts and returns data in JSON format."
   ]
  },
  {
   "cell_type": "code",
   "execution_count": 3,
   "metadata": {},
   "outputs": [
    {
     "data": {
      "text/plain": [
       "{'Title': 'JEA Engine/API',\n",
       " 'Description': 'an optimisation service provided by ENSIMS Ltd.',\n",
       " 'Major': 1,\n",
       " 'Minor': 0,\n",
       " 'Revision': 2,\n",
       " 'Release': 'stable',\n",
       " 'Update': 0,\n",
       " 'Notice': '(C) 2016 - 2019, Energy Simulation Solutions Ltd. All rights reserved.'}"
      ]
     },
     "execution_count": 3,
     "metadata": {},
     "output_type": "execute_result"
    }
   ],
   "source": [
    "r.json()"
   ]
  },
  {
   "cell_type": "markdown",
   "metadata": {},
   "source": [
    "Since it is an object, you can of course access any of its fields such as here:"
   ]
  },
  {
   "cell_type": "code",
   "execution_count": 4,
   "metadata": {},
   "outputs": [
    {
     "data": {
      "text/plain": [
       "'JEA Engine/API'"
      ]
     },
     "execution_count": 4,
     "metadata": {},
     "output_type": "execute_result"
    }
   ],
   "source": [
    "r.json()['Title']"
   ]
  },
  {
   "cell_type": "markdown",
   "metadata": {},
   "source": [
    "## Authentication\n",
    "\n",
    "To use JEA, you need an account on the ENSIMS web service system. It is easy to create one at [app.ensims.com](https://app.ensims.com/?user=register \"Go to app.ensims.com\").\n",
    "\n",
    "Once we've got an account, we can log on to the JEA Web platform. More details of the authentication and account commands are available in the Users_API example notebook and the releveant documentation. Here, we just log on using the existing credential and then store the cookies. \n",
    "\n",
    "The Log on command is a POST request with appropriate headers and the user credentials in JSON format as the data body. Here is how you do it. **Remember to replace the email field with your own.**"
   ]
  },
  {
   "cell_type": "code",
   "execution_count": 5,
   "metadata": {},
   "outputs": [
    {
     "name": "stdin",
     "output_type": "stream",
     "text": [
      "Password for yi@jeplus.org:  ········\n"
     ]
    },
    {
     "data": {
      "text/plain": [
       "{'ok': True,\n",
       " 'status': 'Logged in successfully!',\n",
       " 'jwt': 'Session token in cookie',\n",
       " 'user': 'Yi',\n",
       " 'role': 'pro',\n",
       " 'email': 'yi@jeplus.org'}"
      ]
     },
     "execution_count": 5,
     "metadata": {},
     "output_type": "execute_result"
    }
   ],
   "source": [
    "# Get log in credential\n",
    "import getpass\n",
    "user_email = \"yi@jeplus.org\"  # <== Change this to your registered email\n",
    "password = getpass.getpass(\"Password for \" + user_email + \": \")\n",
    "\n",
    "# Set header and body of the POST request\n",
    "headers = {'Content-Type': 'application/json'}\n",
    "body = {\"email\": user_email, \"password\": password}\n",
    "\n",
    "# Send request\n",
    "r = requests.post(UserApi + 'auth', headers=headers, json=body)\n",
    "\n",
    "# Keep the cookies\n",
    "cookies = r.cookies\n",
    "\n",
    "# Check data returned by JEA\n",
    "r.json()"
   ]
  },
  {
   "cell_type": "markdown",
   "metadata": {},
   "source": [
    "In most JEA commands, the JWT key must be sent as a cookie named 'session_token' along the request. The easiest way is to include 'cookies' in the request, which is shown below as an example. The Check-in command is for testing the validity of the current session token. If the existing key is valid, the request returns a new key. So, remember to update the stored cookies."
   ]
  },
  {
   "cell_type": "code",
   "execution_count": 6,
   "metadata": {},
   "outputs": [
    {
     "data": {
      "text/plain": [
       "{'ok': True,\n",
       " 'status': 'Session renewed successfully!',\n",
       " 'jwt': 'Session key cookie',\n",
       " 'user': 'Yi',\n",
       " 'role': 'user',\n",
       " 'email': 'yi@jeplus.org'}"
      ]
     },
     "execution_count": 6,
     "metadata": {},
     "output_type": "execute_result"
    }
   ],
   "source": [
    "headers = {}\n",
    "body = {}\n",
    "\n",
    "# Check-in\n",
    "r = requests.post(UserApi + 'checkin', headers=headers, json=body, cookies=cookies)\n",
    "\n",
    "# Update the copy of the key\n",
    "cookies = r.cookies\n",
    "\n",
    "# Show the response\n",
    "r.json()\n"
   ]
  },
  {
   "cell_type": "markdown",
   "metadata": {},
   "source": [
    "## Create New Project\n",
    "\n",
    "Now, let's try create a new JEA project. The details of the \"Create\" command ('circle' example is shown below) can be found in the [API docs](http://www.jeplus.org/wiki/doku.php?id=docs:jea:create_project \"Go to docs on the Create command\")."
   ]
  },
  {
   "cell_type": "code",
   "execution_count": 8,
   "metadata": {},
   "outputs": [],
   "source": [
    "body = {\n",
    "    \"command\": \"Create\",\n",
    "    \"projectID\": \"circle-py\",\n",
    "    \"problem\": {\n",
    "        \"name\": \"circle\",\n",
    "        \"description\": \"Test constrained mo fucntion with two variables\",\n",
    "        \"variables\": [\n",
    "            {\n",
    "                \"name\": \"x\",\n",
    "                \"caption\": \"x in [0, 1]\",\n",
    "                \"valueStr\": \"[0:0.01:1]\",\n",
    "                \"maskStr\": \"[0:0.1:1]\",\n",
    "                \"valueType\": \"Number\"\n",
    "            },\n",
    "            {\n",
    "                \"name\": \"y\",\n",
    "                \"caption\": \"y in [0, 1]\",\n",
    "                \"valueStr\": \"[0:0.01:1]\",\n",
    "                \"maskStr\": \"[0:0.1:1]\",\n",
    "                \"valueType\": \"Number\"\n",
    "            }\n",
    "        ],\n",
    "        \"evalResults\": [\n",
    "            {\n",
    "                \"name\": \"f1\",\n",
    "                \"caption\": \"Evaluation f1 = 100 * x\",\n",
    "                \"unit\": \"-\"\n",
    "            },\n",
    "            {\n",
    "                \"name\": \"f2\",\n",
    "                \"caption\": \"Evaluation f2 = 100 * y\",\n",
    "                \"unit\": \"-\"\n",
    "            }\n",
    "        ],\n",
    "        \"userMetrics\": [],\n",
    "        \"objectives\": [\n",
    "            {\n",
    "                \"name\": \"t1\",\n",
    "                \"caption\": \"Objective t1 = f1\",\n",
    "                \"unit\": \"-\",\n",
    "                \"direction\": \"Minimize\",\n",
    "                \"formula\": \"f1\"\n",
    "            },\n",
    "            {\n",
    "                \"name\": \"t2\",\n",
    "                \"caption\": \"Objective t2 = f2\",\n",
    "                \"unit\": \"-\",\n",
    "                \"direction\": \"Minimize\",\n",
    "                \"formula\": \"f2\"\n",
    "            }\n",
    "        ],\n",
    "        \"constraints\": [\n",
    "            {\n",
    "                \"name\": \"s1\",\n",
    "                \"caption\": \"Constraint s1 <= 30\",\n",
    "                \"unit\": \"-\",\n",
    "                \"formula\": \"Math.sqrt(Math.pow(f1-50, 2) + Math.pow(f2-50, 2))\",\n",
    "                \"lb\": 0,\n",
    "                \"ub\": 30,\n",
    "                \"min\": 0,\n",
    "                \"max\": 100,\n",
    "                \"weight\": 1\n",
    "            }\n",
    "        ]\n",
    "    },\n",
    "    \"config\": {\n",
    "        \"algorithm\": \"Parametrics\",\n",
    "        \"sampleSize\": 0,\n",
    "        \"initSampleOption\": \"RANDOM\",\n",
    "        \"initPopSize\": 10,\n",
    "        \"evolvePopSize\": 10,\n",
    "        \"maxPopSize\": 10000,\n",
    "        \"mutationRate\": 0.2,\n",
    "        \"crossoverRate\": 1,\n",
    "        \"tournamentSize\": 2,\n",
    "        \"objectiveBias\": 0,\n",
    "        \"elitismTolerance\": 0,\n",
    "        \"maxGenerations\": 100,\n",
    "        \"maxEvaluations\": 1000,\n",
    "        \"maxComputingTime\": 100,\n",
    "        \"maxWallTime\": 24\n",
    "    },\n",
    "    \"smdata\": {\n",
    "        \"modelID\": \"circle\",\n",
    "        \"model\": \"\",\n",
    "        \"type\": \"Python3\"\n",
    "    }\n",
    "}\n",
    "\n",
    "# Send command\n",
    "r = requests.post(JeaApi + 'command', json=body, cookies=cookies)\n",
    "\n",
    "# Show response\n",
    "r.json()"
   ]
  },
  {
   "cell_type": "markdown",
   "metadata": {},
   "source": [
    "If the \"Create\" command is successful, JEA returns an acknowledgement with the status 'ok', and some text info on the outcome."
   ]
  },
  {
   "cell_type": "markdown",
   "metadata": {},
   "source": [
    "If the project is created successfully, we can check its status any time by issuing the \"Status\" command."
   ]
  },
  {
   "cell_type": "code",
   "execution_count": 10,
   "metadata": {},
   "outputs": [
    {
     "data": {
      "text/plain": [
       "{'status': 'Created',\n",
       " 'solutions': 0,\n",
       " 'projectName': 'circle-py',\n",
       " 'currentRun': -1,\n",
       " 'generations': 0,\n",
       " 'description': 'Project circle-py has been created and configured.',\n",
       " 'ok': True}"
      ]
     },
     "execution_count": 10,
     "metadata": {},
     "output_type": "execute_result"
    }
   ],
   "source": [
    "# Check status\n",
    "project_id = 'circle-py'\n",
    "r = requests.get(JeaApi + 'status/' + project_id, cookies=cookies)\n",
    "\n",
    "# Show the returned status\n",
    "r.json()"
   ]
  },
  {
   "cell_type": "markdown",
   "metadata": {},
   "source": [
    "You can start, pause, resume, terminate, cancel, delete the project with ease. Here is how you start a project. Note that 'project_id' is already assigned in the previous cell. "
   ]
  },
  {
   "cell_type": "code",
   "execution_count": 11,
   "metadata": {},
   "outputs": [
    {
     "data": {
      "text/plain": [
       "{'description': 'EA engine for project circle-py is launched.', 'ok': True}"
      ]
     },
     "execution_count": 11,
     "metadata": {},
     "output_type": "execute_result"
    }
   ],
   "source": [
    "# Get the status of the project\n",
    "r = requests.get(JeaApi + 'start/' + project_id, cookies=cookies)\n",
    "\n",
    "# Show the returned status\n",
    "r.json()"
   ]
  },
  {
   "cell_type": "markdown",
   "metadata": {},
   "source": [
    "## Run Simulations\n",
    "\n",
    "The JEA Engine does not run simulations. In fact, it does not even know what model you are using. If you look at the 'smdata' field in the \"Create\" command above, all the information you have provided to the server is the model's name and type. In order to get the project going, you need to manage the simulation runs yourself.\n",
    "\n",
    "Should it be a parametric or an optimisation project, JEA explores the cases iteratively. In each generation, a number of cases will be proposed by JEA's algorithm. You need to go retrieve the pending cases, run them through the model, and submit the results.\n",
    "\n",
    "Let's first define the model for this example. As defined in the \"Create\" command, the model should take input with values 'x' and 'y', and produce output with values 'f1' and 'f2'. We can make a function to do this."
   ]
  },
  {
   "cell_type": "code",
   "execution_count": 12,
   "metadata": {},
   "outputs": [
    {
     "data": {
      "text/plain": [
       "{'f1': 10.0, 'f2': 20.0}"
      ]
     },
     "execution_count": 12,
     "metadata": {},
     "output_type": "execute_result"
    }
   ],
   "source": [
    "def model(vars):\n",
    "    results = {}\n",
    "    results['f1'] = float(vars['x']) * 100\n",
    "    results['f2'] = float(vars['y']) * 100\n",
    "    return results\n",
    "\n",
    "# A quick test\n",
    "vars = {'x' : 0.1, 'y': 0.2}\n",
    "model(vars)"
   ]
  },
  {
   "cell_type": "markdown",
   "metadata": {},
   "source": [
    "It works; good! Note that in the function, we have coerced the fields of 'vars' to float. This is because all the **variable values come from JEA are in String form** by default. This can be seen in the retrieved case data below. Now, let's retrieve the pending cases from the server..."
   ]
  },
  {
   "cell_type": "code",
   "execution_count": 13,
   "metadata": {},
   "outputs": [
    {
     "data": {
      "text/plain": [
       "{'projectName': 'circle-py',\n",
       " 'jobSet': {'C-30_60': {'x': '0.30', 'y': '0.60'},\n",
       "  'C-10_40': {'x': '0.10', 'y': '0.40'},\n",
       "  'C-100_0': {'x': '1.00', 'y': '0'},\n",
       "  'C-60_70': {'x': '0.60', 'y': '0.70'},\n",
       "  'C-0_50': {'x': '0', 'y': '0.50'},\n",
       "  'C-70_20': {'x': '0.70', 'y': '0.20'},\n",
       "  'C-50_20': {'x': '0.50', 'y': '0.20'},\n",
       "  'C-50_90': {'x': '0.50', 'y': '0.90'},\n",
       "  'C-20_0': {'x': '0.20', 'y': '0'},\n",
       "  'C-70_60': {'x': '0.70', 'y': '0.60'}},\n",
       " 'name': 'Gen-0',\n",
       " 'eventType': 'Request'}"
      ]
     },
     "execution_count": 13,
     "metadata": {},
     "output_type": "execute_result"
    }
   ],
   "source": [
    "# Get pending cases\n",
    "r = requests.get(JeaApi + 'jobs/' + project_id, cookies=cookies)\n",
    "\n",
    "# Show the returned cases\n",
    "r.json()"
   ]
  },
  {
   "cell_type": "markdown",
   "metadata": {},
   "source": [
    "Run each case through the model..."
   ]
  },
  {
   "cell_type": "code",
   "execution_count": 14,
   "metadata": {},
   "outputs": [
    {
     "data": {
      "text/plain": [
       "{'C-30_60': {'f1': 30.0, 'f2': 60.0},\n",
       " 'C-10_40': {'f1': 10.0, 'f2': 40.0},\n",
       " 'C-100_0': {'f1': 100.0, 'f2': 0.0},\n",
       " 'C-60_70': {'f1': 60.0, 'f2': 70.0},\n",
       " 'C-0_50': {'f1': 0.0, 'f2': 50.0},\n",
       " 'C-70_20': {'f1': 70.0, 'f2': 20.0},\n",
       " 'C-50_20': {'f1': 50.0, 'f2': 20.0},\n",
       " 'C-50_90': {'f1': 50.0, 'f2': 90.0},\n",
       " 'C-20_0': {'f1': 20.0, 'f2': 0.0},\n",
       " 'C-70_60': {'f1': 70.0, 'f2': 60.0}}"
      ]
     },
     "execution_count": 14,
     "metadata": {},
     "output_type": "execute_result"
    }
   ],
   "source": [
    "# Loop through the cases and put model output in 'resultSet'\n",
    "cases = r.json()['jobSet']\n",
    "resultSet = {}\n",
    "for key, value in cases.items():\n",
    "    resultSet[key] = model(value)\n",
    "\n",
    "# Check calculation results\n",
    "resultSet"
   ]
  },
  {
   "cell_type": "markdown",
   "metadata": {},
   "source": [
    "Excellent! Now we can build the data for submission..."
   ]
  },
  {
   "cell_type": "code",
   "execution_count": 15,
   "metadata": {},
   "outputs": [
    {
     "data": {
      "text/plain": [
       "{'description': 'Evaluation results set. ', 'ok': True}"
      ]
     },
     "execution_count": 15,
     "metadata": {},
     "output_type": "execute_result"
    }
   ],
   "source": [
    "received = r.json()\n",
    "body = {'name': received['name'],\n",
    "        'projectName': received['projectName'],\n",
    "        'resultSet': resultSet}\n",
    "\n",
    "# Submit results\n",
    "r = requests.post(JeaApi + 'eval', json=body, cookies=cookies)\n",
    "\n",
    "# Check server's return\n",
    "r.json()"
   ]
  },
  {
   "cell_type": "markdown",
   "metadata": {},
   "source": [
    "Check the status of the project again, you will see the project is now progressing. "
   ]
  },
  {
   "cell_type": "code",
   "execution_count": 16,
   "metadata": {},
   "outputs": [
    {
     "data": {
      "text/plain": [
       "{'status': 'Evolving',\n",
       " 'solutions': 10,\n",
       " 'projectName': 'circle-py',\n",
       " 'currentRun': 0,\n",
       " 'generations': 1,\n",
       " 'description': 'Engine is running. Current generation: 0, solutions explored: 10',\n",
       " 'ok': True}"
      ]
     },
     "execution_count": 16,
     "metadata": {},
     "output_type": "execute_result"
    }
   ],
   "source": [
    "# Get the status of the project\n",
    "r = requests.get(JeaApi + 'status/' + project_id, cookies=cookies)\n",
    "\n",
    "# Show the returned status\n",
    "r.json()"
   ]
  },
  {
   "cell_type": "markdown",
   "metadata": {},
   "source": [
    "We can run the above four cells (13 - 16) a few more times to explore more points. Or to write a loop and do these automatically."
   ]
  },
  {
   "cell_type": "markdown",
   "metadata": {},
   "source": [
    "## Get Project Data\n",
    "\n",
    "You can retrieve the project data, including the details of the explored cases, at any time. There are various commands available. Please refer to the [docs](http://www.jeplus.org/wiki/doku.php?id=docs:jea:jea_api#summary \"Go to JEA docs\") for more details. \n",
    "\n",
    "Here is the \"Data\" command for getting the full data set about the project from the server."
   ]
  },
  {
   "cell_type": "code",
   "execution_count": 17,
   "metadata": {},
   "outputs": [],
   "source": [
    "# Get the full data set of the project \n",
    "r = requests.get(JeaApi + 'data/' + project_id, cookies=cookies)\n",
    "\n",
    "# Check the received data\n",
    "# r.json()"
   ]
  },
  {
   "cell_type": "markdown",
   "metadata": {},
   "source": [
    "If you uncomment the 'r.json()' line above, you will see that there is quite a lot of information coming from the server! Well, let's make a chart to see the explored cases."
   ]
  },
  {
   "cell_type": "code",
   "execution_count": 18,
   "metadata": {},
   "outputs": [
    {
     "ename": "ImportError",
     "evalue": "DLL load failed while importing ft2font: The specified module could not be found.",
     "output_type": "error",
     "traceback": [
      "\u001b[1;31m---------------------------------------------------------------------------\u001b[0m",
      "\u001b[1;31mImportError\u001b[0m                               Traceback (most recent call last)",
      "\u001b[1;32m<ipython-input-18-49efe7befbd5>\u001b[0m in \u001b[0;36m<module>\u001b[1;34m\u001b[0m\n\u001b[0;32m     11\u001b[0m \u001b[1;33m\u001b[0m\u001b[0m\n\u001b[0;32m     12\u001b[0m \u001b[1;31m# Now load MatplotLib\u001b[0m\u001b[1;33m\u001b[0m\u001b[1;33m\u001b[0m\u001b[1;33m\u001b[0m\u001b[0m\n\u001b[1;32m---> 13\u001b[1;33m \u001b[1;32mimport\u001b[0m \u001b[0mmatplotlib\u001b[0m\u001b[1;33m.\u001b[0m\u001b[0mpyplot\u001b[0m \u001b[1;32mas\u001b[0m \u001b[0mplt\u001b[0m\u001b[1;33m\u001b[0m\u001b[1;33m\u001b[0m\u001b[0m\n\u001b[0m\u001b[0;32m     14\u001b[0m \u001b[0mfig_size\u001b[0m \u001b[1;33m=\u001b[0m \u001b[1;33m[\u001b[0m\u001b[1;36m12\u001b[0m\u001b[1;33m,\u001b[0m \u001b[1;36m10\u001b[0m\u001b[1;33m]\u001b[0m\u001b[1;33m\u001b[0m\u001b[1;33m\u001b[0m\u001b[0m\n\u001b[0;32m     15\u001b[0m \u001b[0mplt\u001b[0m\u001b[1;33m.\u001b[0m\u001b[0mrcParams\u001b[0m\u001b[1;33m[\u001b[0m\u001b[1;34m\"figure.figsize\"\u001b[0m\u001b[1;33m]\u001b[0m \u001b[1;33m=\u001b[0m \u001b[0mfig_size\u001b[0m\u001b[1;33m\u001b[0m\u001b[1;33m\u001b[0m\u001b[0m\n",
      "\u001b[1;32mc:\\bin\\python38\\lib\\site-packages\\matplotlib\\__init__.py\u001b[0m in \u001b[0;36m<module>\u001b[1;34m\u001b[0m\n\u001b[0;32m    172\u001b[0m \u001b[1;33m\u001b[0m\u001b[0m\n\u001b[0;32m    173\u001b[0m \u001b[1;33m\u001b[0m\u001b[0m\n\u001b[1;32m--> 174\u001b[1;33m \u001b[0m_check_versions\u001b[0m\u001b[1;33m(\u001b[0m\u001b[1;33m)\u001b[0m\u001b[1;33m\u001b[0m\u001b[1;33m\u001b[0m\u001b[0m\n\u001b[0m\u001b[0;32m    175\u001b[0m \u001b[1;33m\u001b[0m\u001b[0m\n\u001b[0;32m    176\u001b[0m \u001b[1;33m\u001b[0m\u001b[0m\n",
      "\u001b[1;32mc:\\bin\\python38\\lib\\site-packages\\matplotlib\\__init__.py\u001b[0m in \u001b[0;36m_check_versions\u001b[1;34m()\u001b[0m\n\u001b[0;32m    157\u001b[0m     \u001b[1;31m# Quickfix to ensure Microsoft Visual C++ redistributable\u001b[0m\u001b[1;33m\u001b[0m\u001b[1;33m\u001b[0m\u001b[1;33m\u001b[0m\u001b[0m\n\u001b[0;32m    158\u001b[0m     \u001b[1;31m# DLLs are loaded before importing kiwisolver\u001b[0m\u001b[1;33m\u001b[0m\u001b[1;33m\u001b[0m\u001b[1;33m\u001b[0m\u001b[0m\n\u001b[1;32m--> 159\u001b[1;33m     \u001b[1;32mfrom\u001b[0m \u001b[1;33m.\u001b[0m \u001b[1;32mimport\u001b[0m \u001b[0mft2font\u001b[0m\u001b[1;33m\u001b[0m\u001b[1;33m\u001b[0m\u001b[0m\n\u001b[0m\u001b[0;32m    160\u001b[0m \u001b[1;33m\u001b[0m\u001b[0m\n\u001b[0;32m    161\u001b[0m     for modname, minver in [\n",
      "\u001b[1;31mImportError\u001b[0m: DLL load failed while importing ft2font: The specified module could not be found."
     ]
    }
   ],
   "source": [
    "# Get the list of solutions\n",
    "data=r.json()['solutions']\n",
    "\n",
    "# Need NumPy\n",
    "import numpy as np\n",
    "\n",
    "# Should this be so complex?\n",
    "array = np.array([], dtype=[('title', str), ('x', float), ('y', float), ('t1', float), ('t2', float), ('s1', float)])\n",
    "for key, value in data.items() :\n",
    "    array = np.append(array, np.array([tuple([key, float(value['variables']['x']), float(value['variables']['y']), value['metrics']['t1'], value['metrics']['t2'], value['metrics']['_s1']])], dtype=array.dtype), axis = 0)\n",
    "\n",
    "# Now load MatplotLib\n",
    "import matplotlib.pyplot as plt\n",
    "fig_size = [12, 10]\n",
    "plt.rcParams[\"figure.figsize\"] = fig_size\n",
    "plt.rcParams[\"grid.linestyle\"] = \":\"\n",
    "\n",
    "# Create plot, with infeasibility shown on color scale\n",
    "x = array['x']\n",
    "y = array['y']\n",
    "colors = array['s1']\n",
    "\n",
    "sc = plt.scatter(x, y, s=70, c=colors, alpha=0.8, cmap='coolwarm')\n",
    "plt.xlabel('x')\n",
    "plt.ylabel('y')\n",
    "plt.grid()\n",
    "plt.colorbar(sc)\n",
    "plt.show()"
   ]
  },
  {
   "cell_type": "markdown",
   "metadata": {},
   "source": [
    "Once the data are here, there are many ways to visualize them. So, have fun!"
   ]
  },
  {
   "cell_type": "markdown",
   "metadata": {
    "jupyter": {
     "outputs_hidden": true
    }
   },
   "source": [
    "## End of Demo"
   ]
  },
  {
   "cell_type": "code",
   "execution_count": null,
   "metadata": {
    "collapsed": true,
    "jupyter": {
     "outputs_hidden": true
    }
   },
   "outputs": [],
   "source": []
  }
 ],
 "metadata": {
  "kernelspec": {
   "display_name": "Python 3",
   "language": "python",
   "name": "python3"
  },
  "language_info": {
   "codemirror_mode": {
    "name": "ipython",
    "version": 3
   },
   "file_extension": ".py",
   "mimetype": "text/x-python",
   "name": "python",
   "nbconvert_exporter": "python",
   "pygments_lexer": "ipython3",
   "version": "3.8.0"
  }
 },
 "nbformat": 4,
 "nbformat_minor": 4
}
